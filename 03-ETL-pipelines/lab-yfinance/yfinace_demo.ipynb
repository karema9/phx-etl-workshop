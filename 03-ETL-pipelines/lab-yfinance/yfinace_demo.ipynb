{
 "cells": [
  {
   "cell_type": "markdown",
   "metadata": {},
   "source": [
    "## Yahoo Finance\n",
    "Yahoo Finance is an open-source scrapper that crawls for financial data on stocks,bonds, currencies and cryptocurrencies, hosted by the yahoo finance site. Additional data such as reports, latest market news and analysis are available.\n",
    "yfinance is a python wrapper of yahoo finance  that allows data ingestion in a more pythonic way.\n"
   ]
  },
  {
   "cell_type": "code",
   "execution_count": null,
   "metadata": {},
   "outputs": [],
   "source": [
    "# import yfinance library\n",
    "import yfinance as yf\n",
    "import pandas as pd"
   ]
  },
  {
   "cell_type": "code",
   "execution_count": null,
   "metadata": {},
   "outputs": [],
   "source": [
    "# set a ticker symbols\n",
    "# HINT : check the companies overvoew data that ingested from Polygon API for a list of ticker symbols \n",
    "# NOTE : the ticker object created, is going to be used to call other methods\n",
    "\n",
    "ticker = yf.Ticker(\"TSLA\")"
   ]
  },
  {
   "cell_type": "markdown",
   "metadata": {},
   "source": [
    "#### 1. Getting Historical Data\n",
    "\n",
    "To get historical data, we call the ticker.history() method.\n",
    "\n",
    "`ticker.history()`\n",
    "\n",
    "The method takes the following parameters.\n",
    "\n",
    "- `period` : data period to download . valid periods are (*1d, 5d, 1mo, 3mo, 6mo, 1y, 2y, 5y, 10y, ytd, max*)\n",
    "- `interval` : data interval (1m intervals are only available fro 7 days, data interval<1d for the last 60 days),\n",
    "valid intervals are (*1m, 2m, 5m, 15m, 30m, 60m, 90m, 1h, 1d, 5d, 1w, 1mo, 3mo)\n",
    "- `start` : if not using the period parameter - format (YYYY-MM-DD) or datetime\n",
    "- `end` : if not using the period parameter - format (YYYY-MM-DD) or datetime \n",
    "- `prepose` : Include pre and post regular market data in results, defaults to False \n",
    "- `auto_adjust` :adjust all OHLCV prices automatically, defaults to True\n",
    "- `action` : Download stock dividends and stock split events: Default is True"
   ]
  },
  {
   "cell_type": "code",
   "execution_count": null,
   "metadata": {},
   "outputs": [],
   "source": [
    "# Example 1 - fetch Tesla historical data between 2024-02-12 and 2024-02-13, at intervals of one hour\n",
    "\n",
    "tesla_hist = ticker.historical(start=\"2024-02-12\", end=\"2024-02-13\", interval=\"1h\")\n",
    "tesla_hist"
   ]
  },
  {
   "cell_type": "code",
   "execution_count": null,
   "metadata": {},
   "outputs": [],
   "source": [
    "# Example 2 - Extract company information about Tesla\n",
    "ticker.info"
   ]
  },
  {
   "cell_type": "code",
   "execution_count": null,
   "metadata": {},
   "outputs": [],
   "source": [
    "# Example 3 - show information about holders of ticker(symbol)\n",
    "ticker.get_major_holders()\n",
    "ticker.get_institutional_holders()\n",
    "ticker.get_mutualfund_holders()\n"
   ]
  },
  {
   "cell_type": "markdown",
   "metadata": {},
   "source": [
    "### Extracting data from multiple tickers\n",
    "\n",
    "**yfinance** also supports extraction of tickers from multiple ticker symbols concurrently.\n",
    "The same `ticker.download` module, you pass in an array of ticker symbhols instead of a single symbol.\n",
    "\n",
    "The method inherits the parameters from the `ticker.history` method. In addition to the parameters in the history method. The `.download` accepts the following additional parameters.\n",
    "\n",
    "- `group_by` : group by column or ticker, defaults to *ticker*\n",
    "- `threads` : use threads for massive download\n",
    "- `proxy` : proxy URL if you wish to download via a proxy server.\n",
    "\n",
    "NOTE : The result can be directly loaded into a  pandas dataframe.\n"
   ]
  },
  {
   "cell_type": "code",
   "execution_count": null,
   "metadata": {},
   "outputs": [],
   "source": [
    "# Example 1 - Download historical data of the given tickers between the start of 2015 and end of 2017 \n",
    "tickers_list = [\"AAPL\", \"IBM\", \"MSFT\", \"AA\"]\n",
    "historical_data = yf.download(tickers_list, start=\"2015-01-01\", end=\"2015-01-01\", interval=\"1d\")\n",
    "df_hist = pd.DataFrame(historical_data) # load the data to a dataframe"
   ]
  },
  {
   "cell_type": "code",
   "execution_count": null,
   "metadata": {},
   "outputs": [],
   "source": [
    "# Example 2 - Extract all the historical data of the ticker symbols above\n",
    "hist_data_all = yf.download(tickers_list, period=\"max\")\n",
    "df_hist_max = pd.DataFrame(hist_data_all)"
   ]
  }
 ],
 "metadata": {
  "kernelspec": {
   "display_name": "base",
   "language": "python",
   "name": "python3"
  },
  "language_info": {
   "name": "python",
   "version": "3.10.9"
  }
 },
 "nbformat": 4,
 "nbformat_minor": 2
}
