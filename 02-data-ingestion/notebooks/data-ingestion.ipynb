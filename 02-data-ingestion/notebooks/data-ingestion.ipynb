{
 "cells": [
  {
   "cell_type": "markdown",
   "metadata": {},
   "source": [
    "Data from various sources system can be ingested using python. \n",
    "Examples of sources systems :\n",
    "\n",
    "1. CSV files\n",
    "2. JSON files\n",
    "3. Parquet files\n",
    "4. SQL databases\n",
    "5. APIs\n",
    "6. Webpages\n",
    "\n",
    "NOTE: explain the concepts of data lakes, data warehouses, data mesh, data vault, data mesh"
   ]
  },
  {
   "cell_type": "markdown",
   "metadata": {},
   "source": []
  }
 ],
 "metadata": {
  "language_info": {
   "name": "python"
  }
 },
 "nbformat": 4,
 "nbformat_minor": 2
}
