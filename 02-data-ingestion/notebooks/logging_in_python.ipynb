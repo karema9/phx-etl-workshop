{
  "cells": [
    {
      "cell_type": "markdown",
      "metadata": {
        "id": "upFOA5PZlHiW"
      },
      "source": [
        "\n",
        "<a href=\"https://colab.research.google.com/github/aviadr1/learn-advanced-python/blob/master/content/15_logging/logging_in_python.ipynb\" target=\"_blank\">\n",
        "<img src=\"https://colab.research.google.com/assets/colab-badge.svg\"\n",
        "     title=\"Open this file in Google Colab\" alt=\"Colab\"/>\n",
        "</a>\n"
      ]
    },
    {
      "cell_type": "markdown",
      "metadata": {
        "id": "Tk1r-dkYlHik"
      },
      "source": [
        "# Logging in python"
      ]
    },
    {
      "cell_type": "markdown",
      "metadata": {
        "id": "W_846Ms9lHiw"
      },
      "source": [
        "Logging is a handy tool in a programmer’s toolbox. It can helps develop a better understanding of the flow of a program and discover scenarios that you might not even have thought of while developing. This is doubly true for non-interactive programs, such as batch processing, servers and calculations running in a cluster.\n",
        "\n",
        "Logs provide developers with an ability to monitor in detail the progress and errors and flow of information in an application. They often store information, for example usernames or IP addresses accessed the application. If an error occurs, logs can provide more insights than a stack trace by telling you what the state of the program was before it arrived at the line of code where the error occurred.\n",
        "\n",
        "By logging useful data from the right places, you can find and fix errors easily but also use the data to analyze the performance of the application to plan for scaling or look at usage patterns to plan for marketing.\n"
      ]
    },
    {
      "cell_type": "markdown",
      "metadata": {
        "id": "imcQsiXblHi6"
      },
      "source": [
        "## Credits\n",
        "This lesson incorporates content from the following resources:\n",
        "\n",
        "- logly: [exceptional logging of exceptions in python](https://www.loggly.com/blog/exceptional-logging-of-exceptions-in-python/)\n",
        "- electricmonk: [understanding pythons logging module](https://www.electricmonk.nl/log/2017/08/06/understanding-pythons-logging-module/)\n",
        "- django deconstructed: [django and python logging in plain english ](https://djangodeconstructed.com/2018/12/18/django-and-python-logging-in-plain-english/)\n",
        "- RealPython: [Logging in python](https://realpython.com/python-logging/)\n"
      ]
    },
    {
      "cell_type": "markdown",
      "metadata": {
        "id": "lXC_Fc6blHjI"
      },
      "source": [
        "## The logging funnel\n",
        "The key to understanding how logging works is knowing that it encourages you to log a lot of data, and then gives multiple mechanisms for filtering out that data. It’s similar to a funnel. Lots of data goes in, but most of it gets filtered out before leaving the system as formatted logs\n",
        "\n",
        "![](https://i0.wp.com/djangodeconstructed.com/wp-content/uploads/2018/12/LogFunnel-1.png?zoom=1.25&resize=551%2C471&ssl=1)\n"
      ]
    },
    {
      "cell_type": "markdown",
      "metadata": {
        "id": "rdxeIK2llHjO"
      },
      "source": [
        "Why does it work this way? Because that leads to simple application code (just log everything!) that stays the same from environment to environment. Filters can then be configured via settings and config files to match the environment. If you’re debugging locally you may want to filter nothing out and create log records of everything. But on production, you only want to know about errors, in which case you can add more filters (i.e. the funnel gets much more narrow).\n",
        "\n",
        "|   |   |\n",
        "|---|---|\n",
        "|![](https://i1.wp.com/djangodeconstructed.com/wp-content/uploads/2018/12/LogFunnel-Dev.png?zoom=1.25&w=374&h=475&ssl=1)|![](https://i1.wp.com/djangodeconstructed.com/wp-content/uploads/2018/12/LogFunnel-Prod-1.png?zoom=1.25&w=374&h=475&ssl=1) |\n",
        "| | |"
      ]
    },
    {
      "cell_type": "markdown",
      "metadata": {
        "id": "ly8w4cSylHjT"
      },
      "source": [
        "## Historical background: Log4J\n",
        "Logging in python is heavily influenced by a logging paradigm popularized by the [log4j](https://en.wikipedia.org/wiki/Log4j) library for the Java language.\n",
        "log4j offered a framework built on Hierarchial loggers and a root logger, log levels, appenders, and layout objects, and inspired ports in many other languages, including: C/C++, Perl, JavaScript, C# etc\n",
        "\n",
        "|  |  |\n",
        "|--|--|\n",
        "| ![](http://4.bp.blogspot.com/-kdWApz8uS6Y/UVLtsF2G5hI/AAAAAAAAAGs/EkxEk0q-uM0/w1200-h630-p-k-no-nu/log4j-arch.jpg) | ![](https://www.edureka.co/blog/wp-content/uploads/2019/09/Picture3.png)|\n",
        "| ![](https://i1.wp.com/blogs.innovationm.com/wp-content/uploads/2018/05/Log4J-Engine.png?fit=624%2C332) | ![](https://www.dev2qa.com/wp-content/uploads/2017/08/log4j-log-levels-desc.png) |"
      ]
    },
    {
      "cell_type": "markdown",
      "metadata": {
        "id": "MBMfqfp3lHjX"
      },
      "source": [
        "# Basics"
      ]
    },
    {
      "cell_type": "markdown",
      "metadata": {
        "id": "hVQCmBCxlHjc"
      },
      "source": [
        "## The Logging Module\n",
        "The logging module in Python is a ready-to-use and powerful module that is designed to meet the needs of beginners as well as enterprise teams. It is used by most of the third-party Python libraries, so you can integrate your log messages with the ones from those libraries to produce a homogeneous log for your application.\n",
        "\n",
        "Adding logging to your Python program is as easy as this:"
      ]
    },
    {
      "cell_type": "code",
      "execution_count": null,
      "metadata": {
        "id": "Dvs28i3alHjq"
      },
      "outputs": [],
      "source": [
        "import logging"
      ]
    },
    {
      "cell_type": "markdown",
      "metadata": {
        "id": "vFNd4B_YlHj0"
      },
      "source": [
        "With the logging module imported, you can use something called a “logger” to log messages that you want to see. By default, there are 5 standard levels indicating the severity of events. Each has a corresponding method that can be used to log events at that level of severity. The defined levels, in order of increasing severity, are the following:\n",
        "\n",
        "![](https://www.dev2qa.com/wp-content/uploads/2017/08/log4j-log-levels-desc.png)\n",
        "\n",
        "   * DEBUG      \n",
        "   * INFO     \n",
        "   * WARNING    \n",
        "   * ERROR    \n",
        "   * CRITICAL    "
      ]
    },
    {
      "cell_type": "markdown",
      "metadata": {
        "id": "aceeViw5lHj8"
      },
      "source": [
        "The logging module provides you with a default logger that allows you to get started without needing to do much configuration. The corresponding methods for each level can be called as shown in the following example:"
      ]
    },
    {
      "cell_type": "code",
      "execution_count": null,
      "metadata": {
        "id": "u9veaHBMlHj_",
        "outputId": "a7a0bca5-0686-41cd-f304-8d082ca1b1c0"
      },
      "outputs": [
        {
          "name": "stderr",
          "output_type": "stream",
          "text": [
            "WARNING:my_logger:This is my 🤔 warning message \n",
            "ERROR:my_logger:This is my error 😱message \n",
            "CRITICAL:my_logger:This is my 😭 critical message \n"
          ]
        }
      ],
      "source": [
        "import logging\n",
        "logger = logging.getLogger('my_logger')\n",
        "\n",
        "logging.basicConfig()\n",
        "\n",
        "logger.debug('This is my 😂 debug message ')\n",
        "logger.info('This is my 💜 info message ')\n",
        "logger.warning('This is my 🤔 warning message ')\n",
        "logger.error('This is my error 😱message ')\n",
        "logger.critical('This is my 😭 critical message ')"
      ]
    },
    {
      "cell_type": "markdown",
      "metadata": {
        "id": "Fvk6eaIRlHkG"
      },
      "source": [
        "Lets unpack what's happening here:\n",
        "\n",
        "1. The output lines start with `WARNING` / `ERROR` / `CRITICAL` which are the severility levels we used\n",
        "2. followed by `my_logger:` - this is the name of the __logger__ We're logging through (Loggers are discussed in detail in later sections.)\n",
        "3. followed by our custom error message\n",
        "\n",
        "This format, which shows the level, name, and message separated by a colon (:), is the default __output format__ that can be configured to include things like timestamp, line number, and other details.\n",
        "\n",
        "> Notice that the `debug()` and `info()` messages didn’t get logged. This is because, by default, the logging module logs the messages with a __severity level of WARNING or above__. You can change that by configuring the logging module to log events of all levels if you want. You can also define your own severity levels by changing configurations, but it is generally not recommended as it can cause confusion with logs of some third-party libraries that you might be using."
      ]
    },
    {
      "cell_type": "markdown",
      "metadata": {
        "id": "YZ007H5NlHkL"
      },
      "source": [
        "## Basic Configurations\n",
        "\n",
        "You can use the `basicConfig(**kwargs)` method to configure the root logger (more on that later):\n",
        "\n",
        "> “You will notice that the logging module breaks PEP8 styleguide and uses camelCase naming conventions. This is because it was adopted from Log4j, a logging utility in Java. It is a known issue in the package but by the time it was decided to add it to the standard library, it had already been adopted by users and changing it to meet PEP8 requirements would cause backwards compatibility issues.” ([Source](https://wiki.python.org/moin/LoggingPackage))\n",
        "\n",
        "Some of the commonly used parameters for `basicConfig()` are the following:\n",
        "\n",
        "- `level`: The root logger will be set to the specified severity level.\n",
        "- `filename`: This specifies the file.\n",
        "- `filemode`: If filename is given, the file is opened in this mode. The default is a, which means append.\n",
        "- `format`: This is the format of the log message.\n",
        "\n",
        "Example: By using the `level` parameter, you can set what level of log messages you want to record. This can be done by passing one of the constants available in the class, and this would enable all logging calls at or above that level to be logged. Here’s an example:\n"
      ]
    },
    {
      "cell_type": "code",
      "execution_count": null,
      "metadata": {
        "id": "2t4AyBeFlHkP",
        "outputId": "d82072ed-0e05-41a2-d339-dbb1c2b9836f"
      },
      "outputs": [
        {
          "name": "stderr",
          "output_type": "stream",
          "text": [
            "DEBUG:root:This WILL get logged\r\n"
          ]
        }
      ],
      "source": [
        "%%python\n",
        "\n",
        "import logging\n",
        "logger = logging.getLogger('my_logger')\n",
        "\n",
        "logging.basicConfig(\n",
        "    level=logging.DEBUG # allow DEBUG level messages to pass through the logger\n",
        "    )\n",
        "\n",
        "logging.debug('This WILL get logged')"
      ]
    },
    {
      "cell_type": "markdown",
      "metadata": {
        "id": "P-lr8JcQlHkT"
      },
      "source": [
        "All events at or above DEBUG level will now get logged.\n"
      ]
    },
    {
      "cell_type": "markdown",
      "metadata": {
        "id": "S8SlNchglHkW"
      },
      "source": [
        "> It should be noted that usually calling `basicConfig()` to configure the root logger works only if the root logger has not been configured before. Basically, this function should usually only be called once."
      ]
    },
    {
      "cell_type": "markdown",
      "metadata": {
        "id": "0SbdIvOzlHkY"
      },
      "source": [
        "You can customize the root logger even further by using more parameters for basicConfig(), which can be found [here](https://docs.python.org/3/library/logging.html#logging.basicConfig).\n",
        "\n",
        "The default setting in `basicConfig()` is to set the logger to write to the console in the following format:\n",
        "\n",
        "```\n",
        "ERROR:root:This is an error message\n",
        "```"
      ]
    },
    {
      "cell_type": "markdown",
      "metadata": {
        "id": "5nqo236llHkb"
      },
      "source": [
        "## Logging Variable Data\n",
        "\n",
        "In most cases, you would want to include dynamic information from your application in the logs. You have seen that the logging methods take a string as an argument, and it might seem natural to format a string with variable data in a separate line and pass it to the log method. But this can actually be done directly by using a format string for the message and appending the variable data as arguments. Here’s an example (using Python's older C-style % string formatting):"
      ]
    },
    {
      "cell_type": "code",
      "execution_count": null,
      "metadata": {
        "id": "FU47CpXVlHkg",
        "outputId": "82e94b1f-bd84-4ca7-f3ce-531242fe0394"
      },
      "outputs": [
        {
          "name": "stderr",
          "output_type": "stream",
          "text": [
            "ERROR:my_logger:A person called \"Aviad\" raised an error\r\n"
          ]
        }
      ],
      "source": [
        "%%python\n",
        "\n",
        "import logging\n",
        "logger = logging.getLogger('my_logger')\n",
        "\n",
        "logging.basicConfig()\n",
        "\n",
        "name = 'Aviad'\n",
        "logger.error('A person called \"%s\" raised an error', name)"
      ]
    },
    {
      "cell_type": "markdown",
      "metadata": {
        "id": "ZI_nXeXLlHkn"
      },
      "source": [
        "The arguments passed to the method would be included as variable data in the message.\n",
        "\n",
        "If you're unfamiliar with the %-based style, the f-strings introduced in Python 3.6 are an awesome way to format strings as they can help keep the formatting short and easy to read:\n"
      ]
    },
    {
      "cell_type": "code",
      "execution_count": null,
      "metadata": {
        "id": "z1Aa9EZrlHkq",
        "outputId": "be35bdaf-deef-43ed-b85a-fcc5c01961ea"
      },
      "outputs": [
        {
          "name": "stderr",
          "output_type": "stream",
          "text": [
            "ERROR:my_logger:A person called \"Aviad\" raised an error\r\n"
          ]
        }
      ],
      "source": [
        "%%python\n",
        "\n",
        "import logging\n",
        "logger = logging.getLogger('my_logger')\n",
        "\n",
        "logging.basicConfig()\n",
        "\n",
        "name = 'Aviad'\n",
        "logger.error(f'A person called \"{name}\" raised an error')"
      ]
    },
    {
      "cell_type": "markdown",
      "metadata": {
        "id": "5eA_VFUrlHkv"
      },
      "source": [
        "> Note: when using f-string formatting, pass just one fully formatted string to the logger functions"
      ]
    },
    {
      "cell_type": "markdown",
      "metadata": {
        "id": "g9EzJI88lHk1"
      },
      "source": [
        "# Configurations"
      ]
    },
    {
      "cell_type": "markdown",
      "metadata": {
        "id": "i6EEf6FqlHk8"
      },
      "source": [
        "## Logging to file\n",
        "\n",
        "> from this point on, we're going to do quite a bit of usage of the Path object to handle files and folders, so lets import it"
      ]
    },
    {
      "cell_type": "code",
      "execution_count": null,
      "metadata": {
        "id": "Cn-XbMWslHlA"
      },
      "outputs": [],
      "source": [
        "from pathlib import Path"
      ]
    },
    {
      "cell_type": "markdown",
      "metadata": {
        "id": "Uq0l35MJlHlD"
      },
      "source": [
        "`basicConfig()`can be used to configure logging to output to a file rather than the console. filename and filemode parameters are used, and you can decide the format of the message using format. The following example shows the usage of all three:"
      ]
    },
    {
      "cell_type": "code",
      "execution_count": null,
      "metadata": {
        "id": "kYh0q_eglHlN"
      },
      "outputs": [],
      "source": [
        "%%python\n",
        "\n",
        "import logging\n",
        "logger = logging.getLogger('my_logger')\n",
        "\n",
        "logging.basicConfig(\n",
        "    filename='app.log', # write to this file\n",
        "    filemode='a', # open in append mode\n",
        "    format='%(name)s - %(levelname)s - %(message)s'\n",
        "    )\n",
        "\n",
        "logging.warning('This will get logged to a file')"
      ]
    },
    {
      "cell_type": "markdown",
      "metadata": {
        "id": "qAT0jOdOlHlT"
      },
      "source": [
        "now logging does not write to console anymore, but instead to the specified file:"
      ]
    },
    {
      "cell_type": "code",
      "execution_count": null,
      "metadata": {
        "id": "L8bhmqqLlHlV",
        "outputId": "f1b0d35c-3b9d-4600-d31c-d004eb247f11"
      },
      "outputs": [
        {
          "name": "stdout",
          "output_type": "stream",
          "text": [
            "root - WARNING - This will get logged to a file\n",
            "root - WARNING - This will get logged to a file\n",
            "root - WARNING - This will get logged to a file\n",
            "root - WARNING - This will get logged to a file\n",
            "\n"
          ]
        }
      ],
      "source": [
        "print(Path('app.log').read_text())"
      ]
    },
    {
      "cell_type": "markdown",
      "metadata": {
        "id": "IbCG3JcplHlb"
      },
      "source": [
        "## Formatting the Output\n",
        "\n",
        "While you can pass any variable that can be represented as a string from your program as a message to your logs, there are some basic elements that are already a part of the LogRecord and can be easily added to the output format. If you want to log the process ID along with the level and message, you can do something like this:"
      ]
    },
    {
      "cell_type": "code",
      "execution_count": null,
      "metadata": {
        "id": "TI6Ie_folHlg",
        "outputId": "af414ac0-f8f0-4976-fe9c-353605ce10ba"
      },
      "outputs": [
        {
          "name": "stderr",
          "output_type": "stream",
          "text": [
            "ID:6728 - WARNING - This Warning contains the process ID of the process who logged it\r\n"
          ]
        }
      ],
      "source": [
        "%%python\n",
        "\n",
        "import logging\n",
        "logger = logging.getLogger('my_logger')\n",
        "\n",
        "logging.basicConfig(format='ID:%(process)d - %(levelname)s - %(message)s')\n",
        "logger.warning('This Warning contains the process ID of the process who logged it')"
      ]
    },
    {
      "cell_type": "markdown",
      "metadata": {
        "id": "TDJZ52o_lHlo"
      },
      "source": [
        "`format=` can take a string with `LogRecord` attributes in any arrangement you like. The entire list of available attributes can be found [here](https://docs.python.org/3/library/logging.html#logrecord-attributes).\n",
        "\n",
        "Here’s another example where you can add the date and time info:"
      ]
    },
    {
      "cell_type": "code",
      "execution_count": null,
      "metadata": {
        "id": "uyewxuw5lHls",
        "outputId": "1693be3a-0433-402a-e4a9-9b1ecce38ba0"
      },
      "outputs": [
        {
          "name": "stderr",
          "output_type": "stream",
          "text": [
            "2019-12-26 03:02:38,959 - This message has a date/time timestamp\r\n"
          ]
        }
      ],
      "source": [
        "%%python\n",
        "\n",
        "import logging\n",
        "logger = logging.getLogger('my_logger')\n",
        "\n",
        "logging.basicConfig(format='%(asctime)s - %(message)s', level=logging.INFO)\n",
        "logger.info('This message has a date/time timestamp')"
      ]
    },
    {
      "cell_type": "markdown",
      "metadata": {
        "id": "6O8qbJgDlHl0"
      },
      "source": [
        "`%(asctime)s` adds the time of creation of the `LogRecord`. The format can be changed using the `datefmt` attribute, which uses the same formatting language as the formatting functions in the `datetime` module, such as `time.strftime()`:"
      ]
    },
    {
      "cell_type": "code",
      "execution_count": null,
      "metadata": {
        "id": "EYSzUs5UlHl4",
        "outputId": "f0678dc0-27aa-400d-9913-49a5313e5780"
      },
      "outputs": [
        {
          "name": "stderr",
          "output_type": "stream",
          "text": [
            "26-Dec-19 03:02:39 - Date looks different for this message\r\n"
          ]
        }
      ],
      "source": [
        "%%python\n",
        "\n",
        "import logging\n",
        "logger = logging.getLogger('my_logger')\n",
        "\n",
        "logging.basicConfig(format='%(asctime)s - %(message)s', datefmt='%d-%b-%y %H:%M:%S')\n",
        "logger.warning('Date looks different for this message')"
      ]
    },
    {
      "cell_type": "markdown",
      "metadata": {
        "id": "NV57g55MlHl-"
      },
      "source": [
        "You can find the date/time formatting guide [here](https://docs.python.org/3/library/datetime.html#strftime-and-strptime-behavior)."
      ]
    },
    {
      "cell_type": "markdown",
      "metadata": {
        "id": "B3wdnFKflHmB"
      },
      "source": [
        "## Anatomy of logging module: Classes and Functions\n",
        "\n",
        "So far, we have seen the default logger named root, which is used by the logging module whenever its functions are called directly like this: `logging.debug()`. You can (and should) define your own logger by creating an object of the Logger class, especially if your application has multiple modules. Let’s have a look at some of the classes and functions in the module.\n",
        "\n",
        "The most commonly used classes defined in the logging module are the following:\n",
        "\n",
        "- `Logger`: This is the class whose objects will be used in the application code directly to call the functions.\n",
        "\n",
        "- `LogRecord`: Loggers automatically create LogRecord objects that have all the information related to the event being logged, like the name of the logger, the function, the line number, the message, and more.\n",
        "\n",
        "- `Handler`: Handlers send the LogRecord to the required output destination, like the console or a file. Handler is a base for subclasses like StreamHandler, FileHandler, SMTPHandler, HTTPHandler, and more. These subclasses send the logging outputs to corresponding destinations, like sys.stdout or a disk file.\n",
        "\n",
        "- `Formatter`: This is where you specify the format of the output by specifying a string format that lists out the attributes that the output should contain.\n",
        "\n",
        "we'll talk more in depth about all of these below, right now we're keeping to the basics.\n",
        "\n",
        "Out of these, we mostly deal directly with the objects of the Logger class, which are instantiated using the module-level function `logging.getLogger(name)`. Multiple calls to `getLogger()` with the same name will return a reference to the same Logger object, which saves us from passing the logger objects to every part where it’s needed.\n",
        "\n",
        "Here’s an example:"
      ]
    },
    {
      "cell_type": "code",
      "execution_count": null,
      "metadata": {
        "id": "uallKEIolHmF",
        "outputId": "fdfadb50-0605-423c-f377-a98aa82b1da0"
      },
      "outputs": [
        {
          "name": "stderr",
          "output_type": "stream",
          "text": [
            "WARNING:example_logger:This is a warning\r\n"
          ]
        }
      ],
      "source": [
        "%%python\n",
        "\n",
        "import logging\n",
        "logging.basicConfig() # setup basic formatting for the root logger\n",
        "\n",
        "logger = logging.getLogger('example_logger')\n",
        "logger.warning('This is a warning')"
      ]
    },
    {
      "cell_type": "markdown",
      "metadata": {
        "id": "Jd6DUm5KlHmK"
      },
      "source": [
        "This creates a custom logger named _example_logger_.\n",
        "\n",
        "it inherits the the handler and formatting from the _root_ logger, is why it outputs to console, and uses the same formatting as the root logger"
      ]
    },
    {
      "cell_type": "markdown",
      "metadata": {
        "id": "-V-mC5sxlHmO"
      },
      "source": [
        "> “It is recommended that we use module-level loggers by passing `__name__` as the name parameter to `getLogger()` to create a logger object as the name of the logger itself would tell us from where the events are being logged. `__name__` is a special built-in variable in Python which evaluates to the name of the current module.” ([Source](https://docs.python.org/3/library/logging.html#logger-objects))\n",
        "\n"
      ]
    },
    {
      "cell_type": "markdown",
      "metadata": {
        "id": "Myyh7SWGlHmR"
      },
      "source": [
        "## Using Handlers\n",
        "Handlers come into the picture when you want to configure your own loggers and send the logs to multiple places when they are generated. Handlers send the log messages to configured destinations like the standard output stream or a file or over HTTP or to your email via SMTP.\n",
        "\n",
        "A logger that you create can have more than one handler, which means you can set it up to be saved to a log file and also send it over email.\n",
        "\n",
        "Like loggers, you can also set the severity level in handlers. This is useful if you want to set multiple handlers for the same logger but want different severity levels for each of them. For example, you may want logs with level WARNING and above to be logged to the console, but everything with level ERROR and above should also be saved to a file.\n",
        "\n",
        "For Here’s a program that does configures handlers with code:\n",
        "> NOTE: as we will see later in this lesson, people usually use __configuration files__ rather than code, to setup loggers/handlers."
      ]
    },
    {
      "cell_type": "code",
      "execution_count": null,
      "metadata": {
        "id": "GoMUmAPFlHmV",
        "outputId": "005c521c-7f81-4a97-d855-9615fc17511c"
      },
      "outputs": [
        {
          "name": "stderr",
          "output_type": "stream",
          "text": [
            "__main__ - WARNING - This is a warning\r\n",
            "__main__ - ERROR - This is an error\r\n"
          ]
        }
      ],
      "source": [
        "%%python\n",
        "\n",
        "import logging\n",
        "\n",
        "# Create a custom logger\n",
        "logger = logging.getLogger(__name__)\n",
        "logger.propagate = False # do not pass logs to the default logger\n",
        "\n",
        "# Create handlers\n",
        "c_handler = logging.StreamHandler()\n",
        "f_handler = logging.FileHandler('file.log', mode='w')\n",
        "c_handler.setLevel(logging.WARNING)\n",
        "f_handler.setLevel(logging.ERROR)\n",
        "\n",
        "# Create formatters and add it to handlers\n",
        "c_format = logging.Formatter('%(name)s - %(levelname)s - %(message)s')\n",
        "f_format = logging.Formatter('%(asctime)s - %(name)s - %(levelname)s - %(message)s')\n",
        "c_handler.setFormatter(c_format)\n",
        "f_handler.setFormatter(f_format)\n",
        "\n",
        "# Add handlers to the logger\n",
        "logger.addHandler(c_handler)\n",
        "logger.addHandler(f_handler)\n",
        "\n",
        "logger.warning('This is a warning')\n",
        "logger.error('This is an error')"
      ]
    },
    {
      "cell_type": "markdown",
      "metadata": {
        "id": "MVcLOHGZlHmd"
      },
      "source": [
        "Here, `logger.warning()` is creating a `LogRecord` that holds all the information of the event and passing it to all the Handlers that it has: `c_handler` and `f_handler`.\n",
        "\n",
        "- `c_handler` is a `StreamHandler` with level `WARNING` and takes the info from the LogRecord to generate an output in the format specified and prints it to the console.\n",
        "- `f_handler` is a `FileHandler` with level `ERROR`, and it ignores this LogRecord as its level is WARNING.\n",
        "\n",
        "When `logger.error()` is called, `c_handler` behaves exactly as before, and `f_handler` gets a LogRecord at the level of `ERROR`, so it proceeds to generate an output just like c_handler, but instead of printing it to console, it writes it to the specified file:"
      ]
    },
    {
      "cell_type": "code",
      "execution_count": null,
      "metadata": {
        "id": "nr7b5GmQlHmg",
        "outputId": "55012206-6be2-4710-94dd-325fab4ab7db"
      },
      "outputs": [
        {
          "name": "stdout",
          "output_type": "stream",
          "text": [
            "2019-12-26 03:02:39,201 - __main__ - ERROR - This is an error\n",
            "\n"
          ]
        }
      ],
      "source": [
        "print(open('file.log').read())"
      ]
    },
    {
      "cell_type": "markdown",
      "metadata": {
        "id": "OoqljLNPlHmm"
      },
      "source": [
        "## Using configuration files\n",
        "While it is possible to configure logging as shown above using the module and class functions, it is more flexible and useful to use configuration files for this\n",
        "\n",
        "We can configure logging by creating a config file or a dictionary and loading it using `fileConfig()` or `dictConfig()` respectively. These are useful in case you want to change your logging configuration in a running application.\n",
        "\n",
        "Here’s an example file configuration:"
      ]
    },
    {
      "cell_type": "code",
      "execution_count": null,
      "metadata": {
        "id": "w43xatKdlHmq",
        "outputId": "76e981fa-a4e0-4e26-b6b9-063eaf74cdd9"
      },
      "outputs": [
        {
          "name": "stdout",
          "output_type": "stream",
          "text": [
            "Writing example.conf\n"
          ]
        }
      ],
      "source": [
        "%%file example.conf\n",
        "\n",
        "[loggers]\n",
        "keys=root,sampleLogger\n",
        "\n",
        "[handlers]\n",
        "keys=consoleHandler\n",
        "\n",
        "[formatters]\n",
        "keys=sampleFormatter\n",
        "\n",
        "[logger_root]\n",
        "level=DEBUG\n",
        "handlers=consoleHandler\n",
        "\n",
        "[logger_sampleLogger]\n",
        "level=DEBUG\n",
        "handlers=consoleHandler\n",
        "qualname=sampleLogger\n",
        "propagate=0\n",
        "\n",
        "[handler_consoleHandler]\n",
        "class=StreamHandler\n",
        "level=DEBUG\n",
        "formatter=sampleFormatter\n",
        "args=(sys.stdout,)\n",
        "\n",
        "[formatter_sampleFormatter]\n",
        "format=%(asctime)s | %(levelname)-7s | %(name)s - %(message)s"
      ]
    },
    {
      "cell_type": "markdown",
      "metadata": {
        "id": "WM64SpqjlHmw"
      },
      "source": [
        "In the above file, there are two loggers, one handler, and one formatter. After their names are defined, they are configured by adding the words logger, handler, and formatter before their names separated by an underscore.\n",
        "\n",
        "To load this config file, you have to use fileConfig():"
      ]
    },
    {
      "cell_type": "code",
      "execution_count": null,
      "metadata": {
        "id": "nnhLzjXFlHm0",
        "outputId": "cb8d43e3-901c-4e86-e28b-f418ba08e3f5"
      },
      "outputs": [
        {
          "name": "stdout",
          "output_type": "stream",
          "text": [
            "2019-12-26 03:02:39,352 | DEBUG   | __main__ - This is a debug message\r\n"
          ]
        }
      ],
      "source": [
        "%%python\n",
        "\n",
        "import logging\n",
        "import logging.config\n",
        "\n",
        "logging.config.fileConfig(fname='example.conf', disable_existing_loggers=False)\n",
        "\n",
        "# Get the logger specified in the file\n",
        "logger = logging.getLogger(__name__)\n",
        "\n",
        "logger.debug('This is a debug message')"
      ]
    },
    {
      "cell_type": "markdown",
      "metadata": {
        "id": "8xuFPM2AlHm7"
      },
      "source": [
        "The path of the config file is passed as a parameter to the `fileConfig()` method, and the `disable_existing_loggers` parameter is used to keep or disable the loggers that are present when the function is called. It defaults to True if not mentioned."
      ]
    },
    {
      "cell_type": "markdown",
      "metadata": {
        "id": "F9XfPXrGlHm-"
      },
      "source": [
        "Here’s the same configuration in a YAML format for the dictionary approach:"
      ]
    },
    {
      "cell_type": "code",
      "execution_count": null,
      "metadata": {
        "id": "JuHRudmilHnB",
        "outputId": "15cd0e6a-4a94-4b2e-9595-0688a64f5544"
      },
      "outputs": [
        {
          "name": "stdout",
          "output_type": "stream",
          "text": [
            "Writing config.yaml\n"
          ]
        }
      ],
      "source": [
        "%%file config.yaml\n",
        "\n",
        "version: 1\n",
        "disable_existing_loggers: False\n",
        "formatters:\n",
        "  simple:\n",
        "    format: '%(asctime)s | %(levelname)-7s | %(name)s - %(message)s'\n",
        "handlers:\n",
        "  console:\n",
        "    class: logging.StreamHandler\n",
        "    level: DEBUG\n",
        "    formatter: simple\n",
        "    stream: ext://sys.stdout\n",
        "loggers:\n",
        "  sampleLogger:\n",
        "    level: DEBUG\n",
        "    handlers: [console]\n",
        "    propagate: no\n",
        "root:\n",
        "  level: DEBUG\n",
        "  handlers: [console]\n"
      ]
    },
    {
      "cell_type": "code",
      "execution_count": null,
      "metadata": {
        "id": "DFmlINptlHnE",
        "outputId": "169bd029-d3a3-4998-a154-bc250740fee1"
      },
      "outputs": [
        {
          "name": "stdout",
          "output_type": "stream",
          "text": [
            "2019-12-26 03:02:39,517 | DEBUG   | __main__ - This is a debug message\r\n"
          ]
        }
      ],
      "source": [
        "%%python\n",
        "\n",
        "import logging\n",
        "import logging.config\n",
        "import yaml\n",
        "\n",
        "with open('config.yaml', 'r') as f:\n",
        "    config = yaml.safe_load(f.read())\n",
        "    logging.config.dictConfig(config)\n",
        "\n",
        "logger = logging.getLogger(__name__)\n",
        "\n",
        "logger.debug('This is a debug message')\n"
      ]
    },
    {
      "cell_type": "markdown",
      "metadata": {
        "id": "QyLZcY0hlHnJ"
      },
      "source": [
        "the YAML configuration is usually considered cleaner and more preferrable, although the INI-style configuration has been around longer and is perhaps more well known."
      ]
    },
    {
      "cell_type": "markdown",
      "metadata": {
        "id": "5pqKWD3JlHnP"
      },
      "source": [
        "# Understanding logging in-depth"
      ]
    },
    {
      "cell_type": "markdown",
      "metadata": {
        "id": "vY1uu8tvlHnS"
      },
      "source": [
        "## Loggers\n",
        "Loggers are the application-level interface to the logging system. A system may have multiple different loggers, each with their own name and rules.\n",
        "\n",
        "> it is good common practice for developers to have a logger per module\n",
        "\n",
        "question:\n",
        "what would be the name of the logger in this file?\n",
        "\n",
        "> ```\n",
        "> # file: project/moduleA/submoduleX/x3.py\n",
        ">    \n",
        "> import logging\n",
        "> logger = logging.getLogger(__name__)\n",
        "> logger.info('module initialized')\n",
        "> ```\n",
        "\n",
        "answer:\n",
        "the variable `__name__` would expand to `\"project.moduleA.submoduleX.x3\"` which would be the name of the logger.\n",
        "\n",
        "output from this program might look like this:\n",
        "\n",
        "> `INFO    | project.moduleA.submoduleX.x3  - module initialized`\n",
        "    \n",
        "thus, when using `__name__` as the name of the logger, the name helps us localize a log message to a particular file in our project.\n",
        "\n",
        "\n",
        "   "
      ]
    },
    {
      "cell_type": "markdown",
      "metadata": {
        "id": "h5e_L5W2lHnV"
      },
      "source": [
        "## Logger hierarchy\n",
        "Loggers have a hierarchy. That is, you can create individual loggers and each logger has a parent. At the top of the hierarchy is the root logger. For instance, we could have the following loggers:\n",
        "\n",
        "```\n",
        "myapp\n",
        "myapp.ui\n",
        "myapp.ui.edit\n",
        "```\n",
        "These can be created by asking a parent logger for a new child logger:"
      ]
    },
    {
      "cell_type": "code",
      "execution_count": null,
      "metadata": {
        "id": "oECIw_WwlHnY",
        "outputId": "ba97931a-7f77-4eae-9f17-de1ec71e3b7e"
      },
      "outputs": [
        {
          "name": "stdout",
          "output_type": "stream",
          "text": [
            "myapp.ui\n",
            "myapp\n"
          ]
        }
      ],
      "source": [
        "log_myapp = logging.getLogger(\"myapp\")\n",
        "log_myapp_ui = log_myapp.getChild(\"ui\")\n",
        "print(log_myapp_ui.name)        # 'myapp.ui'\n",
        "print(log_myapp_ui.parent.name) # 'myapp'"
      ]
    },
    {
      "cell_type": "markdown",
      "metadata": {
        "id": "YneT8v-slHnf"
      },
      "source": [
        "Or you can (__and should!__) use dot notation:"
      ]
    },
    {
      "cell_type": "code",
      "execution_count": null,
      "metadata": {
        "id": "i440uNrZlHnj",
        "outputId": "6c5988a2-3ebd-4b52-cfa8-702325901272"
      },
      "outputs": [
        {
          "name": "stdout",
          "output_type": "stream",
          "text": [
            "myapp.ui\n",
            "myapp\n"
          ]
        }
      ],
      "source": [
        "log_myapp_ui = logging.getLogger(\"myapp.ui\")\n",
        "print(log_myapp_ui.name)        # 'myapp.ui'\n",
        "print(log_myapp_ui.parent.name) # 'myapp'"
      ]
    },
    {
      "cell_type": "markdown",
      "metadata": {
        "id": "GBSBdhcSlHns"
      },
      "source": [
        "You should use the dot notation generally.\n",
        "\n",
        "One thing that’s not immediately clear is that the logger names don’t include the root logger. In actuality, the logger hierarchy looks like this:\n",
        "\n",
        "```\n",
        "root.myapp\n",
        "root.myapp.ui\n",
        "root.myapp.ui.edit\n",
        "```\n",
        "\n",
        "More on the root logger in a bit."
      ]
    },
    {
      "cell_type": "markdown",
      "metadata": {
        "id": "1pQI71dklHnw"
      },
      "source": [
        "### inheritance\n",
        "To understand how the logger hierachy is useful, we need to understand how loggers are structured. If you look at most functional apps you won’t see any specific logger names getting looked up in application code. You’ll see something similar to the following:\n",
        "\n",
        "```python\n",
        "logger = logging.getLogger(__name__)\n",
        "```\n",
        "`__name__` is a built-in Python variable that evaluates to the current module. So in the module `project/app/tests`, `__name__` will evaluate to `project.app.tests`. That doesn’t mean that the project has explicitly defined a logger named `project.app.tests`. This is where inheritance comes into the picture.\n",
        "\n",
        "Python loggers are organized in a parent-child structure with a hierarchy similar to module namespacing. Every application has a main logger that is never (or should never be) used directly. Child loggers point back to parent loggers, which eventually point to the main logger. Names are defined using dot-notation, so the name `parent_logger.child_logger` denotes a child_logger which “inherits” from a logger named parent_logger.\n",
        "\n",
        "The child can inherit a log level from the parent, and if we look up a logger that hasn’t explicitly been defined in the logging configuration then logging will create that logger and move up the inheritance tree until one is explicitly defined. The new logger will then inherit that logger’s log-level. So if project.app.tests isn’t defined, logging will check if project.app is defined and use that log-level. If that isn’t defined it will try project. If this still isn’t defined then the root logger will be used.\n",
        "\n",
        "Benefits of the parent-child architecture:\n",
        "\n",
        "1. General behavior can be added to parent loggers and specific behavior can be added to child loggers.\n",
        "2. Naming and relationships follow the structure that Python already uses for imports, so we don’t need a new mental model.\n",
        "3. It allows us to use module-specific loggers without explicitly configuring them."
      ]
    },
    {
      "cell_type": "markdown",
      "metadata": {
        "id": "GjoFMwk6lHn1"
      },
      "source": [
        "### Propagation\n",
        "If we create a new logger dynamically at runtime then that logger won’t have any handlers of its own. It also doesn’t inherit them from its parent. So how does that `LogRecord` get to a handler?\n",
        "\n",
        "This problem is solved via propagation. Propagation means passing a log from a child logger to a parent logger’s handlers, which is the default behavior. This means that a `LogRecord` created by child_logger will first get sent to child_logger’s handlers and then if `child_logger.propagate == True` it will get passed to the parent logger. The parent logger will then bypass its own filters and send the LogRecord directly to its handlers. If `parent_logger.propagate == True` this passing will continue until the logger reaches the root logger, or until an ancestor has propagate set to `False`.\n",
        "\n",
        "![](https://i1.wp.com/djangodeconstructed.com/wp-content/uploads/2018/12/InheritancePropagation.png?zoom=1.25&resize=351%2C261&ssl=1)\n",
        "\n",
        "A common design that takes advantage of this hierarchy involves only adding handlers to the root or project-level logger and then adding filters to the application’s child loggers. Module-level loggers are then responsible for what gets logged but the decision of where to send the final LogRecord is controlled at the root-level.\n",
        "\n",
        "Propagation is useful because, without it, a module-level logger that doesn’t have it’s own handlers wouldn’t actually do anything with the logs it creates. Because of propagation, we can create a new module, lookup the logger for that specific module via the `__name__` variable, and immediately have a new logger that inherits a log-level and propagates its logs up to its parent’s handlers."
      ]
    },
    {
      "cell_type": "markdown",
      "metadata": {
        "id": "LQeUvgFBlHn8"
      },
      "source": [
        "## Log levels and message propagation\n",
        "Each logger can have a log level. When you send a message to a logger, you specify the log level of the message. If the level matches, the message is then propagated up the hierarchy of loggers. One of the biggest misconceptions I had was that I thought each logger checked the level of the message and if it the level of the message is lower or equal, the logger’s handler would be invoked. This is not true!\n",
        "\n",
        "What happens instead is that the level of the message is only checked by the logger you give the message to. If the message’s level is lower or equal to the logger’s, the message is propagated up the hierarchy, but none of the other loggers will check the level! They’ll simply invoke their handlers."
      ]
    },
    {
      "cell_type": "code",
      "execution_count": null,
      "metadata": {
        "id": "307C5uMclHoA",
        "outputId": "4bb8acfa-3035-432b-ddea-8f071842e925"
      },
      "outputs": [
        {
          "name": "stderr",
          "output_type": "stream",
          "text": [
            "DEBUG:myapp.ui:test\r\n"
          ]
        }
      ],
      "source": [
        "%%python\n",
        "import logging\n",
        "\n",
        "log_myapp = logging.getLogger(\"myapp\")\n",
        "log_myapp_ui = logging.getLogger(\"myapp.ui\")\n",
        "\n",
        "logging.basicConfig()\n",
        "log_myapp.setLevel(logging.ERROR)\n",
        "log_myapp_ui.setLevel(logging.DEBUG)\n",
        "log_myapp_ui.debug('test')"
      ]
    },
    {
      "cell_type": "markdown",
      "metadata": {
        "id": "4HORIT6ElHoF"
      },
      "source": [
        "In the example above, the root logger has a handler that prints the message. Even though the “log_myapp” handler has a level of ERROR, the DEBUG message is still propagated to to the root logger. This image (from the python logging docs) shows why:\n",
        "\n",
        "![](https://docs.python.org/2/_images/logging_flow.png)\n",
        "\n",
        "As you can see, when giving a message to a logger, the logger checks the level. After that, the level on the loggers is no longer checked and all handlers in the entire chain are invoked, regardless of level. Note that you can set levels on handlers as well. This is useful if you want to, for example, create a debugging log file but only show warnings and errors on the console.\n",
        "\n",
        "It’s also worth noting that by default, loggers have a level of 0. This means __they use the log level of the first parent logger that has an actual level set__. This is determined at message-time, not when the logger is created."
      ]
    },
    {
      "cell_type": "markdown",
      "metadata": {
        "id": "TZBrn3EClHoK"
      },
      "source": [
        "## The root logger\n",
        "The logging tutorial for Python explains that to configure logging, you can use basicConfig():\n",
        "\n",
        "`logging.basicConfig(filename='example.log',level=logging.DEBUG)`\n",
        "\n",
        "It’s not immediately obvious, but what this does is configure the root logger. Doing this may cause some counter-intuitive behaviour, because it causes debugging output for all loggers in your program, including every library that uses logging.\n",
        "\n",
        "> Some modules, like the famous `requests` module uses logging. This is why the requests module suddenly starts outputting debug information when you configure the root logger.\n",
        "\n",
        "In general, your program or library shouldn’t log directly against the root logger. Instead configure a specific “main” logger for your program and put all the other loggers under that logger. This way, you can toggle logging for your specific program on and off by setting the level of the main logger. If you’re still interested in debugging information for all the libraries you’re using, feel free to configure the root logger.\n",
        "\n",
        "There are more pitfalls when it comes to the root logger. If you call any of the module-level logging methods, the root logger is automatically configured in the background for you. This goes completely against Python’s “explicit is better than implicit” rule:"
      ]
    },
    {
      "cell_type": "code",
      "execution_count": null,
      "metadata": {
        "id": "xVdBpDaPlHoO",
        "outputId": "dbd79a09-49b2-4cb3-8a11-657a4a213c8e"
      },
      "outputs": [
        {
          "name": "stderr",
          "output_type": "stream",
          "text": [
            "WARNING:root:uhoh\r\n"
          ]
        }
      ],
      "source": [
        "%%python\n",
        "import logging\n",
        "logging.warning(\"uhoh\")"
      ]
    },
    {
      "cell_type": "markdown",
      "metadata": {
        "id": "F-zbgpQxlHoV"
      },
      "source": [
        "In the example above, I never configured a handler. It was done automatically. And on the root handler no less. This will cause all kinds of logging output from libraries you might not want. So don’t use the `logging.warning()`, `logging.error()` and other module-level methods. Always log against a specific logger instance you got with `logging.getLogger()`.\n"
      ]
    },
    {
      "cell_type": "markdown",
      "metadata": {
        "id": "lQMUDc8YlHoY"
      },
      "source": [
        "## Debugging logging problems\n",
        "When I run into weird logging problems such as no output, or double lines, I generally put the following debugging code at the point where I’m logging the message.\n",
        "\n",
        "```python\n",
        "log_to_debug = logging.getLogger(\"myapp.ui.edit\")\n",
        "\n",
        "while log_to_debug is not None:\n",
        "    print(\"level: %s, name: %s (%x), handlers: %s\" % (\n",
        "        log_to_debug.level,\n",
        "        log_to_debug.name,\n",
        "        id(log_to_debug),\n",
        "        log_to_debug.handlers))\n",
        "    \n",
        "    log_to_debug = log_to_debug.parent\n",
        "```\n",
        "\n",
        "which outputs:\n",
        "```\n",
        "level: 0, name: myapp.ui.edit, handlers: []\n",
        "level: 0, name: myapp.ui, handlers: []\n",
        "level: 0, name: myapp, handlers: []\n",
        "level: 30, name: root, handlers: []\n",
        "```\n",
        "\n",
        "From this output it becomes obvious that all loggers use a level of 30, since their log levels are 0, which means the look up the hierarchy for the first logger with a non-zero level. I’ve also not configured any handlers. If I was seeing double output, it’s probably because there is more than one handler configured."
      ]
    },
    {
      "cell_type": "markdown",
      "metadata": {
        "id": "Z2DPOO93lHod"
      },
      "source": [
        "## HANDLERS\n",
        "Handlers answer the question “now that we have a log, where should we send it?” It could go to a file, to the console, get sent as an email, or other possible destinations. The exact behavior could differ depending on context as well. While on your local computer you may want the logs to go to the console so it’s easier to debug, if your code is in production you’ll want a more robust logging setup.\n",
        "\n",
        "To allow different behaviors, a single logger can send a LogRecord to multiple different handlers, each with their own rules for how to handle the log. setting this up usually happens through configuration"
      ]
    },
    {
      "cell_type": "markdown",
      "metadata": {
        "id": "Lz5_cRbNlHoi"
      },
      "source": [
        "## Summary\n",
        "- When you log a message, the level is only checked at the logger you logged the message against. If it passes, every handler on every logger up the hierarchy is called, regardless of that logger’s level.\n",
        "\n",
        "- By default, loggers have a level of 0. This means they use the log level of the first parent logger that has an actual level set. This is determined at message-time, not when the logger is created.\n",
        "\n",
        "- Don’t log directly against the root logger. That means: no logging.basicConfig() and no usage of module-level loggers such as logging.warning(), as they have unintended side-effects.\n",
        "\n",
        "- Create a uniquely named top-level logger for your application / library and put all child loggers under that logger. Configure a handler for output on the top-level logger for your application. Don’t configure a level on your loggers, so that you can set a level at any point in the hierarchy and get logging output at that level for all underlying loggers. Note that this is an appropriate strategy for how I usually structure my programs. It might not be for you.\n",
        "\n",
        "- The easiest way that’s usually correct is to use __name__ as the logger name: log = logging.getLogger(__name__). This uses the module hierarchy as the name, which is generally what you want.\n",
        "\n",
        "- Read the entire [logging HOWTO](https://docs.python.org/3/howto/logging.html) and specifically the [Advanced Logging Tutorial](https://docs.python.org/3/howto/logging.html#logging-advanced-tutorial), because it really should be called “logging basics”."
      ]
    },
    {
      "cell_type": "markdown",
      "metadata": {
        "id": "k7eTyb0IlHom"
      },
      "source": [
        "# Exceptional logging of exceptions in Python\n",
        "\n",
        "Exceptions happen. And as developers, we simply have to deal with them. Even when writing software to help us find burritos.\n",
        "\n",
        "Wait, I’m getting ahead of myself… we’ll come back to that. As I was saying: How we deal with exceptions depends on the language. And for software operating at scale, logging is one of the most powerful, valuable tools we have for dealing with error conditions. Let’s look at some ways these work together.\n",
        "\n",
        "## The “Big Tarp” Pattern\n",
        "We’re going to start at one extreme:\n",
        "\n",
        "```python\n",
        "try:\n",
        "    main_loop()\n",
        "except Exception:\n",
        "    logger.exception(\"Fatal error in main loop\")\n",
        "```\n",
        "\n",
        "This is a broad catch-all. It is suitable for some code path where you know the block of code (i.e, main_loop()) can raise a number of exceptions you may not anticipate. And rather than allow the program to terminate, you decide it’s preferable to log the error information, and continue from there.\n",
        "\n",
        "The magic here is with exception method. (logger is your application’s logger object—something that was returned from logging.getLogger(), for example.) This wonderful method captures the full stack trace in the context of the except block, and writes it in full.\n",
        "\n",
        "Note that you don’t have to pass the exception object here. You do pass a message string. This will log the full stack trace, but prepend a line with your message. So the multiline message that shows up in your log might look like this:\n",
        "\n",
        "```\n",
        "Fatal error in main loop\n",
        "Traceback (most recent call last):\n",
        "  File \"bigtarp.py\", line 14, in\n",
        "    main_loop()\n",
        "  File \"bigtarp.py\", line 9, in main_loop\n",
        "    print(foo(x))\n",
        "  File \"bigtarp.py\", line 4, in foo\n",
        "    return 10 // n\n",
        "    ZeroDivisionError: integer division or modulo by zero\n",
        "```\n",
        "\n",
        "The details of the stack trace don’t matter—this is a toy example that illustrates a grown-up solution to a real world problem. Just notice that the first line is the message you passed to `logger.exception()`, and the subsequent lines are the full stack trace, including the exception type (`ZeroDivisionError` in this case). It will catch and log any kind of error in this way.\n",
        "\n",
        "By default, `logger.exception` uses the log level of `ERROR`. Alternatively, you can use the regular logging methods— `logger.debug()`, `logger.info()`, `logger.warn()`, etc.—and pass the `exc_info` parameter, setting it to `True`:\n",
        "\n",
        "```python\n",
        "while True:\n",
        "    try:\n",
        "        main_loop()\n",
        "    except Exception:\n",
        "        logger.error(\"Fatal error in main loop\", exc_info=True)\n",
        "```\n",
        "\n",
        "Setting `exc_info` to `True` will cause the logging to include the full stack trace…. exactly like `logger.exception()` does. The only difference is that you can easily change the log level to something other than error: Just replace `logger.error` with `logger.warning`, for example.\n",
        "\n",
        "Fun fact: The Big Tarp pattern has an almost diabolical counterpart, which you’ll read about below.\n",
        "\n",
        "## The “Pinpoint” Pattern\n",
        "Now let’s look at the other extreme. Imagine you are working with the _OpenBurrito SDK_, a library solving the crucial problem of finding a late-night burrito joint near your current location. Suppose it has a function called `find_burrito_joints()` that normally returns a list of suitable restaurants. But under certain rare circumstances, it may raise an exception called `BurritoCriteriaConflict`.\n",
        "\n",
        "```python\n",
        "from openburrito import find_burrito_joints, BurritoCriteriaConflict\n",
        "# \"criteria\" is an object defining the kind of burritos you want.\n",
        "try:\n",
        "    places = find_burrito_joints(criteria)\n",
        "except BurritoCriteriaConflict as err:\n",
        "    logger.warn(\"Cannot resolve conflicting burrito criteria: {}\".format(err.message))\n",
        "    places = list()\n",
        "```\n",
        "\n",
        "The pattern here is to optimistically execute some code—the call to `find_burrito_joints()`, in this case—within a try block. In the event a specific exception type is raised, you log a message, deal with the situation, and move on.\n",
        "\n",
        "The key difference is the except clause. With the Big Tarp, you’re basically catching and logging any possible exception. With Pinpoint, you are catching a very specific exception type, which has semantic relevance at that particular place in the code.\n",
        "\n",
        "Notice also, that I use `logger.warn()` rather than `logger.exception()`. In other words, I log a message at a particular severity instead of logging the whole stack trace.\n",
        "\n",
        "Why am I throwing away the stack trace information? Because it is not as useful in this context, where I’m catching a specific exception type, which has a clear meaning in the logic of the code. For example, in this snippet:\n",
        "\n",
        "```python\n",
        "characters = {\"hero\": \"Homer\", \"villain\": \"Mr. Burns\"}\n",
        "# Insert some code here that may or may not add a key called\n",
        "# \"sidekick\" to the characters dictionary.\n",
        "try:\n",
        "    sidekick = characters[\"sidekick\"]\n",
        "except KeyError:\n",
        "    sidekick = \"Milhouse\"\n",
        "```\n",
        "\n",
        "Here, the `KeyError` is not just any error. When it is raised, that means a specific situation has occurred—namely, there is no “sidekick” role defined in my cast of characters, so I must fall back to a default. Filling up the log with a stack trace is not going to be useful in this kind of situation. And that is where you will use Pinpoint.\n",
        "\n",
        "## The “Transformer” Pattern\n",
        "Here, you are catching an exception, logging it, then raising a different exception. First, here’s how it works in Python 3:\n",
        "\n",
        "```python\n",
        "try:\n",
        "    something()\n",
        "except SomeError as err:\n",
        "    logger.warn(\"...\")\n",
        "    raise DifferentError() from err\n",
        "```\n",
        "\n",
        "(That turns out to have big implications. More on that in a moment.) You will want to use this pattern when an exception may be raised that does not map well to the logic of your application. This often occurs around library boundaries.\n",
        "\n",
        "For example, imagine you are using the openburrito SDK for your killer app that lets people find late-night burrito joints. The `find_burrito_joints()` function may raise `BurritoCriteriaConflict` if we’re being too picky. This is the API exposed by the SDK, but it does not conveniently map to the higher-level logic of your application. A better fit at this point of the code is an exception you defined, called `NoMatchingRestaurants`.\n",
        "\n",
        "In this situation, you will apply the pattern like this (for Python 3):\n",
        "\n",
        "```python\n",
        "from myexceptions import NoMatchingRestaurants\n",
        "try:\n",
        "    places = find_burrito_joints(criteria)\n",
        "except BurritoCriteriaConflict as err:\n",
        "    logger.warn(\"Cannot resolve conflicting burrito criteria: {}\".format(err.message))\n",
        "    raise NoMatchingRestaurants(criteria) from err\n",
        "```\n",
        "\n",
        "This causes a single line of output in your log, and triggers a new exception. If never caught, that exception’s error output looks like this:\n",
        "\n",
        "```\n",
        "Traceback (most recent call last):\n",
        "  File \"transformerB3.py\", line 8, in\n",
        "    places = find_burrito_joints(criteria)\n",
        "  File \"/Users/amax/python-exception-logging-patterns/openburrito.py\", line 7, in find_burrito_joints\n",
        "    raise BurritoCriteriaConflict\n",
        "openburrito.BurritoCriteriaConflict\n",
        "The above exception was the direct cause of the following exception:\n",
        "Traceback (most recent call last):\n",
        "  File \"transformerB3.py\", line 11, in\n",
        "    raise NoMatchingRestaurants(criteria) from err\n",
        "myexceptions.NoMatchingRestaurants: {'region': 'Chiapas'}\n",
        "```\n",
        "\n",
        "Now this is interesting. The output includes the stack trace for `NoMatchingRestaurants`. And it reports the instigating `BurritoCriteriaConflict` as well… clearly specifying which was the original.\n",
        "\n",
        "In Python 3, exceptions can be chained. The `raise ... from ...` syntax provides this. When you say `raise NoMatchingRestaurants(criteria) from err`, that raises an exception of typeNoMatchingRestaurants. This raised exception has an attribute named `__cause__`, whose value is the instigating exception. Python 3 makes use of this internally when reporting the error information.\n",
        "\n",
        "\n",
        "## The “Message and Raise” Pattern\n",
        "In this pattern, you log that an exception occurs at a particular point, but then allow it to propagate and be handled at a higher level:\n",
        "\n",
        "```python\n",
        "try:\n",
        "    something()\n",
        "except SomeError:\n",
        "    logger.warn(\"...\")\n",
        "    raise\n",
        "```\n",
        "\n",
        "You are not actually handling the exception. You are just temporarily interrupting the flow to log an event. You will do this when you specifically have a higher-level handler for the error, and want to fall back on that, yet also want to log that the error occurred, or the meaning of it, at a certain place in the code.\n",
        "\n",
        "This may be most useful in troubleshooting—when you are getting an exception, but trying to better understand the calling context. You can interject this logging statement to provide useful information, and even safely deploy to production if you need to observe the results under realistic conditions.\n",
        "\n",
        "## The “Cryptic Message” Antipattern\n",
        "Now we’ll turn our attention to some anti-patterns… things you should not do in your code.\n",
        "\n",
        "```python\n",
        "try:\n",
        "    something()\n",
        "except Exception:\n",
        "    logger.error(\"...\")\n",
        "```\n",
        "\n",
        "Suppose you or someone on your team writes this code, and then six months later, you see a funny message in your log. Something like:\n",
        "\n",
        "`ERROR: something bad happened`\n",
        "\n",
        "Now I hope and pray that you will not see the words “something bad happened” in your actual log. However, the actual log text you see may be just as baffling. What do you do next?\n",
        "\n",
        "Well, the first thing is to figure out where in the code base this vague message is being logged. If you are lucky, you will be able to quickly grep through the code and find exactly one possibility. If you are not lucky, you may find the log message in several completely different code paths. Which will leave you with several questions:\n",
        "\n",
        "Which one of them is triggering the error?\n",
        "Or is it several of them? Or ALL of them?\n",
        "Which entry in the log corresponds to which place?\n",
        "Sometimes, however, it’s not even possible to grep or search through the code to find where it is happening, because the log text is being generated. Consider:\n",
        "\n",
        "    what = \"something\"\n",
        "    quality = \"bad\"\n",
        "    event = \"happened\"\n",
        "    logger.error(\"%s %s %s\", what, quality, event)\n",
        "How would you even search for that? You may not even think of it, unless you searched for the full phrase first and got no hits. And if you did get a hit, it could easily be a false positive.\n",
        "\n",
        "The ideal solution is to pass the exc_info argument:\n",
        "\n",
        "```python\n",
        "try:\n",
        "    something()\n",
        "except Exception:\n",
        "    logger.error(\"something bad happened\", exc_info=True)\n",
        "```\n",
        "\n",
        "When you do this, a full stack trace is included in the application logs. This tells you exactly what line in what file is causing the problem, who invoked it, et cetera… all the information you need to start debugging.\n",
        "\n",
        "## The Most Diabolical Python Antipattern\n",
        "If I ever see you do this one, I will come to your house to confiscate your computers, then hack into your github account and delete all your repos:\n",
        "\n",
        "```python\n",
        "try:\n",
        "    something()\n",
        "except Exception:\n",
        "    pass\n",
        "```\n",
        "\n",
        "I refer to this as “The Most Diabolical Python Antipattern.” Notice how this not only fails to give you any useful exception information. It also manages to completely hide the fact that anything is wrong in the first place. You may never even know you mistyped a variable name—yes, this actually masks NameError—until you get paged at 2 a.m. because production is broken, in a way that takes you until dawn to figure out, because all possible troubleshooting information is being suppressed.\n",
        "\n",
        "Just don’t do it. If you feel like you simply must catch and ignore all errors, at least throw a big tarp under it (i.e. use logger.exception() instead of pass).\n",
        "\n"
      ]
    },
    {
      "cell_type": "markdown",
      "metadata": {
        "id": "x_3kuDomlHo4"
      },
      "source": [
        "# Example"
      ]
    },
    {
      "cell_type": "markdown",
      "metadata": {
        "id": "Rb-zKlhOlHo8"
      },
      "source": [
        "Lets create an example project with the following structure:\n",
        "\n",
        "```\n",
        "project/\n",
        "/-- moduleA/\n",
        "    /-- a1.py\n",
        "    /-- submoduleX/\n",
        "        /-- x1.py\n",
        "        /-- x2.py\n",
        "/-- moduleB/\n",
        "    /-- b1.py\n",
        "```\n",
        "\n",
        "and lets imagine we want to apply the following rules:\n",
        "1. all logs with level WARNING and above should go to the console\n",
        "2. all logs from moduleA (or its submodules) with level ERROR and above should go to file `moduleA.errors.log`\n",
        "3. all logs from submoduleX with level INFO and above should go to file `submoduleX.info.log`\n",
        "4. all logs from submoduleX.x2 with level DEBUG and above should go to file `x2.debug.log`\n",
        "5. all logs from moduleB.b1 with level DEBUG and above should _ONLY_ go to `b1.log` and not to any other place\n",
        "\n",
        "With logging, this requires no special coding, and is relatively easy to configure:"
      ]
    },
    {
      "cell_type": "code",
      "execution_count": null,
      "metadata": {
        "id": "vwEHaQjklHpB",
        "outputId": "b2e8f056-5055-4ebd-beb8-7fe47fdb1e02"
      },
      "outputs": [
        {
          "name": "stdout",
          "output_type": "stream",
          "text": [
            "Writing project/project.yaml\n"
          ]
        }
      ],
      "source": [
        "%%file project/project.yaml\n",
        "\n",
        "version: 1\n",
        "disable_existing_loggers: False\n",
        "formatters:\n",
        "  simple:\n",
        "    format: '%(asctime)s | %(levelname)-7s | %(name)-30s - %(message)s'\n",
        "handlers:\n",
        "  console:\n",
        "    class: logging.StreamHandler\n",
        "    level: DEBUG\n",
        "    formatter: simple\n",
        "    stream: ext://sys.stdout\n",
        "  moduleA:\n",
        "    class: logging.FileHandler\n",
        "    formatter: simple\n",
        "    filename: 'project/moduleA.errors.log'\n",
        "  submoduleX:\n",
        "    class: logging.FileHandler\n",
        "    formatter: simple\n",
        "    filename: 'project/moduleA.submoduleX.info.log'\n",
        "  x2:\n",
        "    class: logging.FileHandler\n",
        "    formatter: simple\n",
        "    filename: 'project/moduleA.submoduleX.x2.debug.log'\n",
        "  b1:\n",
        "    class: logging.FileHandler\n",
        "    formatter: simple\n",
        "    filename: 'project/moduleB.b1.debug.log'\n",
        "loggers:\n",
        "  project.moduleA:\n",
        "    level: ERROR\n",
        "    handlers: [moduleA]\n",
        "  project.moduleA.submoduleX:\n",
        "    level: INFO\n",
        "    handlers: [submoduleX]\n",
        "  project.moduleA.submoduleX.x2:\n",
        "    level: DEBUG\n",
        "    handlers: [x2]\n",
        "  project.moduleB.b1:\n",
        "    level: DEBUG\n",
        "    handlers: [b1]\n",
        "    propagate: False\n",
        "root:\n",
        "  level: WARNING\n",
        "  handlers: [console]\n"
      ]
    },
    {
      "cell_type": "markdown",
      "metadata": {
        "id": "RVI7IZjRlHpH"
      },
      "source": [
        "Now lets create the example code files for our project:"
      ]
    },
    {
      "cell_type": "code",
      "execution_count": null,
      "metadata": {
        "id": "PBk47NnmlHpN",
        "outputId": "71b70f63-84a8-4001-865e-094632bf3bf6"
      },
      "outputs": [
        {
          "name": "stdout",
          "output_type": "stream",
          "text": [
            "Created project\\moduleA\\a1.py\n",
            "Created project\\moduleA\\submoduleX\\x1.py\n",
            "Created project\\moduleA\\submoduleX\\x2.py\n",
            "Created project\\moduleB\\b1.py\n"
          ]
        }
      ],
      "source": [
        "from pathlib import Path\n",
        "\n",
        "example_code = \"\"\"\n",
        "import logging\n",
        "\n",
        "logger = logging.getLogger(__name__)\n",
        "\n",
        "def do_unimportant_thing():\n",
        "    logger.debug('this information is for debugging')\n",
        "\n",
        "def do_something():\n",
        "    logger.info('doing something')\n",
        "\n",
        "def warn_about_something():\n",
        "    logger.warn('something could be wrong')\n",
        "\n",
        "def some_error():\n",
        "    logger.error('there seems to be an error')\n",
        "\n",
        "\"\"\"\n",
        "\n",
        "project_files = [\n",
        "    'project/moduleA/a1.py',\n",
        "    'project/moduleA/submoduleX/x1.py',\n",
        "    'project/moduleA/submoduleX/x2.py',\n",
        "    'project/moduleB/b1.py',\n",
        "    ]\n",
        "\n",
        "for path in [Path(f) for f in project_files]:\n",
        "    path.parent.mkdir(parents=True, exist_ok=True)\n",
        "    path.write_text(example_code)\n",
        "    print('Created', path)\n"
      ]
    },
    {
      "cell_type": "markdown",
      "metadata": {
        "id": "s57xrCQRlHpS"
      },
      "source": [
        "and here's the test program which exercises all the methods of all the modules in our example project.\n",
        "\n",
        "the program also reads the `project.yaml` configuration file, and without writing code, routes the logs according to all the rules we wrote in the config file"
      ]
    },
    {
      "cell_type": "code",
      "execution_count": null,
      "metadata": {
        "id": "ZMm9NOE_lHpX",
        "outputId": "2e4be293-534f-4ac0-a4b9-aacb74466eed"
      },
      "outputs": [
        {
          "name": "stdout",
          "output_type": "stream",
          "text": [
            "2019-12-26 03:02:46,062 | ERROR   | project.moduleA.a1             - there seems to be an error\r\n",
            "2019-12-26 03:02:46,063 | INFO    | project.moduleA.submoduleX.x1  - doing something\r\n",
            "2019-12-26 03:02:46,063 | WARNING | project.moduleA.submoduleX.x1  - something could be wrong\r\n",
            "2019-12-26 03:02:46,063 | ERROR   | project.moduleA.submoduleX.x1  - there seems to be an error\r\n",
            "2019-12-26 03:02:46,063 | DEBUG   | project.moduleA.submoduleX.x2  - this information is for debugging\r\n",
            "2019-12-26 03:02:46,063 | INFO    | project.moduleA.submoduleX.x2  - doing something\r\n",
            "2019-12-26 03:02:46,063 | WARNING | project.moduleA.submoduleX.x2  - something could be wrong\r\n",
            "2019-12-26 03:02:46,063 | ERROR   | project.moduleA.submoduleX.x2  - there seems to be an error\r\n"
          ]
        }
      ],
      "source": [
        "%%python\n",
        "\n",
        "import logging\n",
        "import logging.config\n",
        "\n",
        "import project.moduleA.a1 as a1\n",
        "import project.moduleA.submoduleX.x1 as x1\n",
        "import project.moduleA.submoduleX.x2 as x2\n",
        "import project.moduleB.b1 as b1\n",
        "\n",
        "import yaml\n",
        "from pathlib import Path\n",
        "\n",
        "config = yaml.safe_load(Path('project/project.yaml').read_text())\n",
        "logging.config.dictConfig(config)\n",
        "\n",
        "for module in [a1, x1, x2, b1]:\n",
        "    module.do_unimportant_thing()\n",
        "    module.do_something()\n",
        "    module.warn_about_something()\n",
        "    module.some_error()\n"
      ]
    },
    {
      "cell_type": "markdown",
      "metadata": {
        "id": "05nLwjGQlHpc"
      },
      "source": [
        "You can read through the generated log files and convince yourself that indeed all the fules have been followed"
      ]
    },
    {
      "cell_type": "code",
      "execution_count": null,
      "metadata": {
        "id": "a5TI3pBclHpl"
      },
      "outputs": [],
      "source": [
        "for f in [f for f in Path('project/').iterdir() if f.is_file()]:\n",
        "    print(f.lstat().st_size, 'bytes', '\\t', f)"
      ]
    },
    {
      "cell_type": "code",
      "execution_count": null,
      "metadata": {
        "id": "VPRLaPjIlHpp"
      },
      "outputs": [],
      "source": []
    }
  ],
  "metadata": {
    "kernelspec": {
      "display_name": "Python 3",
      "language": "python",
      "name": "python3"
    },
    "language_info": {
      "codemirror_mode": {
        "name": "ipython",
        "version": 3
      },
      "file_extension": ".py",
      "mimetype": "text/x-python",
      "name": "python",
      "nbconvert_exporter": "python",
      "pygments_lexer": "ipython3",
      "version": "3.7.3"
    },
    "colab": {
      "provenance": []
    }
  },
  "nbformat": 4,
  "nbformat_minor": 0
}