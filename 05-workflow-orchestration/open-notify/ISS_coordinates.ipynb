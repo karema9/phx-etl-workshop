{
  "nbformat": 4,
  "nbformat_minor": 0,
  "metadata": {
    "colab": {
      "provenance": []
    },
    "kernelspec": {
      "name": "python3",
      "display_name": "Python 3"
    },
    "language_info": {
      "name": "python"
    }
  },
  "cells": [
    {
      "cell_type": "code",
      "execution_count": 28,
      "metadata": {
        "id": "4YoY_vvbf1IG"
      },
      "outputs": [],
      "source": [
        "import requests\n",
        "import pandas as pd"
      ]
    },
    {
      "cell_type": "code",
      "source": [
        "res = requests.get(\"http://api.open-notify.org/iss-now.json\")\n",
        "data = res.json()\n",
        "\n",
        "data"
      ],
      "metadata": {
        "colab": {
          "base_uri": "https://localhost:8080/"
        },
        "id": "Hq-SlhKbf96B",
        "outputId": "38e0991d-b6b1-4dc8-d5fd-2165957876e4"
      },
      "execution_count": 10,
      "outputs": [
        {
          "output_type": "execute_result",
          "data": {
            "text/plain": [
              "{'iss_position': {'latitude': '46.7325', 'longitude': '-113.8441'},\n",
              " 'message': 'success',\n",
              " 'timestamp': 1709640492}"
            ]
          },
          "metadata": {},
          "execution_count": 10
        }
      ]
    },
    {
      "cell_type": "markdown",
      "source": [],
      "metadata": {
        "id": "SDOx9KZvmWRU"
      }
    },
    {
      "cell_type": "code",
      "source": [
        "def get_iss_coordinates():\n",
        "  \"\"\"\n",
        "  Fetch the current coordinates of the ISS\n",
        "\n",
        "  Returns:\n",
        "    JSON response containing coordinates\n",
        "  \"\"\"\n",
        "  try:\n",
        "    res = requests.get(\"http://api.open-notify.org/iss-now.json\")\n",
        "    data = res.json()\n",
        "    print(\"Request successful\")\n",
        "  except Exception as e:\n",
        "    print(f\"Exception {e} while fetching ISS coordinates\")\n",
        "    data = \"Error\"\n",
        "\n",
        "  return data\n",
        "\n",
        "curr_coords = get_iss_coordinates()\n",
        "\n",
        "\n"
      ],
      "metadata": {
        "colab": {
          "base_uri": "https://localhost:8080/"
        },
        "id": "luFffiFPghoQ",
        "outputId": "b26d93cd-edd9-4552-f505-cf419d574d70"
      },
      "execution_count": 26,
      "outputs": [
        {
          "output_type": "stream",
          "name": "stdout",
          "text": [
            "Request successful\n"
          ]
        }
      ]
    },
    {
      "cell_type": "code",
      "source": [
        "def transform_coords(response):\n",
        "  \"\"\"\n",
        "  Extract the relevant data from the JSON\n",
        "\n",
        "  Returns:\n",
        "    coordinates_dict = dictionary object containing coordinates and timestamp\n",
        "  \"\"\"\n",
        "  coordinates_dict = {\n",
        "                      'timestamp' : response['timestamp'],\n",
        "                      'latitude' : response['iss_position']['latitude'],\n",
        "                      'longitude' : response['iss_position']['longitude']\n",
        "                      }\n",
        "\n",
        "  return coordinates_dict\n",
        "\n",
        "transform_coords(curr_coords)"
      ],
      "metadata": {
        "colab": {
          "base_uri": "https://localhost:8080/"
        },
        "id": "etp1x4x2iErq",
        "outputId": "8b2d8cb4-da6a-4f28-c4d1-f55c8f7c82dd"
      },
      "execution_count": 29,
      "outputs": [
        {
          "output_type": "execute_result",
          "data": {
            "text/plain": [
              "{'timestamp': 1709641572, 'latitude': '-1.1667', 'longitude': '-60.2031'}"
            ]
          },
          "metadata": {},
          "execution_count": 29
        }
      ]
    }
  ]
}