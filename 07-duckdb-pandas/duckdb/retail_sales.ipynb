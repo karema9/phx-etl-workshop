{
 "cells": [
  {
   "cell_type": "code",
   "execution_count": 3,
   "metadata": {},
   "outputs": [],
   "source": [
    "import duckdb      \n",
    "import time\n",
    "import pandas as pd\n",
    "import glob"
   ]
  },
  {
   "cell_type": "markdown",
   "metadata": {},
   "source": [
    "### Connecting to duckdb\n",
    "\n",
    "NOTE:\n",
    " Duckdb is an in-memory database, very much like an enhanced SQLite, except is optimized for analytics workload.\n",
    "In-memory means the database management system relies on primary (main) memory, i.e RAM, for data storage instead of disk storage. This leads to faster perfomance since main memory has a larger bandwidth allocation and minimal latency."
   ]
  },
  {
   "cell_type": "code",
   "execution_count": 4,
   "metadata": {},
   "outputs": [],
   "source": [
    "# all data will be lost after you close the connection\n",
    "conn = duckdb.connect()\n",
    "\n",
    "#conn=duckdb.connect(\"demo.db\")"
   ]
  },
  {
   "cell_type": "markdown",
   "metadata": {},
   "source": [
    "### Perfomance comparison: Pandas vs DuckDB"
   ]
  },
  {
   "cell_type": "code",
   "execution_count": 18,
   "metadata": {},
   "outputs": [
    {
     "name": "stdout",
     "output_type": "stream",
     "text": [
      "   Order ID                     Product  Quantity Ordered     Price  \\\n",
      "0    176558        USB-C Charging Cable                 2     11.95   \n",
      "1    176559  Bose SoundSport Headphones                 1     99.99   \n",
      "2    176560                Google Phone                 1       600   \n",
      "3    176560            Wired Headphones                 1     11.99   \n",
      "4    176561            Wired Headphones                 1     11.99   \n",
      "5    176562        USB-C Charging Cable                 1     11.95   \n",
      "6    176563  Bose SoundSport Headphones                 1     99.99   \n",
      "7    176564        USB-C Charging Cable                 1     11.95   \n",
      "8    176565          Macbook Pro Laptop                 1  1,700.00   \n",
      "9    176566            Wired Headphones                 1     11.99   \n",
      "\n",
      "   Order Date      Time                        Purchase Address  \\\n",
      "0  19-04-2019   8:46 AM            917 1st St, Dallas, TX 75001   \n",
      "1  07-04-2019  10:30 PM       682 Chestnut St, Boston, MA 02215   \n",
      "2  12-04-2019   2:38 PM    669 Spruce St, Los Angeles, CA 90001   \n",
      "3  12-04-2019   2:38 PM    669 Spruce St, Los Angeles, CA 90001   \n",
      "4  30-04-2019   9:27 AM       333 8th St, Los Angeles, CA 90001   \n",
      "5  29-04-2019   1:03 PM  381 Wilson St, San Francisco, CA 94016   \n",
      "6  02-04-2019   7:46 AM        668 Center St, Seattle, WA 98101   \n",
      "7  12-04-2019  10:58 AM         790 Ridge St, Atlanta, GA 30301   \n",
      "8  24-04-2019  10:38 AM  915 Willow St, San Francisco, CA 94016   \n",
      "9  08-04-2019   2:05 PM             83 7th St, Boston, MA 02215   \n",
      "\n",
      "             City Product Type  \n",
      "0          Dallas        Cable  \n",
      "1          Boston   Headphones  \n",
      "2     Los Angeles        Phone  \n",
      "3     Los Angeles   Headphones  \n",
      "4     Los Angeles   Headphones  \n",
      "5   San Francisco        Cable  \n",
      "6         Seattle   Headphones  \n",
      "7         Atlanta        Cable  \n",
      "8   San Francisco       Laptop  \n",
      "9          Boston   Headphones  \n",
      "Time taken 5.230841159820557\n"
     ]
    }
   ],
   "source": [
    "\n",
    "# reading the first 10 columns\n",
    "cur_time = time.time()\n",
    "df_sales = pd.read_csv(\"/home/c99/Desktop/data-projects/duckdb-demo/datasets/Sales_Product_Combined.csv\")\n",
    "print(df_sales.head(10))\n",
    "stop = time.time()\n",
    "\n",
    "print(f\"Time taken {time.time() - cur_time}\")"
   ]
  },
  {
   "cell_type": "code",
   "execution_count": 20,
   "metadata": {},
   "outputs": [
    {
     "name": "stdout",
     "output_type": "stream",
     "text": [
      "   Order ID                     Product  Quantity Ordered     Price  \\\n",
      "0    176558        USB-C Charging Cable                 2     11.95   \n",
      "1    176559  Bose SoundSport Headphones                 1     99.99   \n",
      "2    176560                Google Phone                 1       600   \n",
      "3    176560            Wired Headphones                 1     11.99   \n",
      "4    176561            Wired Headphones                 1     11.99   \n",
      "5    176562        USB-C Charging Cable                 1     11.95   \n",
      "6    176563  Bose SoundSport Headphones                 1     99.99   \n",
      "7    176564        USB-C Charging Cable                 1     11.95   \n",
      "8    176565          Macbook Pro Laptop                 1  1,700.00   \n",
      "9    176566            Wired Headphones                 1     11.99   \n",
      "\n",
      "  Order Date      Time                        Purchase Address  \\\n",
      "0 2019-04-19   8:46 AM            917 1st St, Dallas, TX 75001   \n",
      "1 2019-04-07  10:30 PM       682 Chestnut St, Boston, MA 02215   \n",
      "2 2019-04-12   2:38 PM    669 Spruce St, Los Angeles, CA 90001   \n",
      "3 2019-04-12   2:38 PM    669 Spruce St, Los Angeles, CA 90001   \n",
      "4 2019-04-30   9:27 AM       333 8th St, Los Angeles, CA 90001   \n",
      "5 2019-04-29   1:03 PM  381 Wilson St, San Francisco, CA 94016   \n",
      "6 2019-04-02   7:46 AM        668 Center St, Seattle, WA 98101   \n",
      "7 2019-04-12  10:58 AM         790 Ridge St, Atlanta, GA 30301   \n",
      "8 2019-04-24  10:38 AM  915 Willow St, San Francisco, CA 94016   \n",
      "9 2019-04-08   2:05 PM             83 7th St, Boston, MA 02215   \n",
      "\n",
      "             City Product Type  \n",
      "0          Dallas        Cable  \n",
      "1          Boston   Headphones  \n",
      "2     Los Angeles        Phone  \n",
      "3     Los Angeles   Headphones  \n",
      "4     Los Angeles   Headphones  \n",
      "5   San Francisco        Cable  \n",
      "6         Seattle   Headphones  \n",
      "7         Atlanta        Cable  \n",
      "8   San Francisco       Laptop  \n",
      "9          Boston   Headphones  \n",
      "Time taken : 1.5648012161254883\n"
     ]
    }
   ],
   "source": [
    "# DuckDB reading the first 10 rows\n",
    "start = time.time()\n",
    "\n",
    "df = conn.execute(\"\"\"SELECT * FROM                  \n",
    "             read_csv_auto('datasets/Sales_Product_Combined.csv', header=True)\n",
    "             LIMIT 10\n",
    "\"\"\").df()\n",
    "\n",
    "print(df)\n",
    "print(f\"Time taken : {time.time() - start}\")\n"
   ]
  },
  {
   "cell_type": "code",
   "execution_count": null,
   "metadata": {},
   "outputs": [],
   "source": [
    "# interesting technique here\n",
    "# reads all csv files in directory and concatentates them\n",
    "pd.concat([pd.read_csv(f) for f in glob.glob(\"datasets/*.csv\")])"
   ]
  },
  {
   "cell_type": "markdown",
   "metadata": {},
   "source": [
    "### Checking the column types"
   ]
  },
  {
   "cell_type": "code",
   "execution_count": null,
   "metadata": {},
   "outputs": [],
   "source": [
    "df = conn.execute(\"\"\"\n",
    "SELECT *\n",
    "FROM 'datasets/*.csv'\n",
    "\"\"\").df()"
   ]
  }
 ],
 "metadata": {
  "kernelspec": {
   "display_name": "base",
   "language": "python",
   "name": "python3"
  },
  "language_info": {
   "codemirror_mode": {
    "name": "ipython",
    "version": 3
   },
   "file_extension": ".py",
   "mimetype": "text/x-python",
   "name": "python",
   "nbconvert_exporter": "python",
   "pygments_lexer": "ipython3",
   "version": "3.10.9"
  }
 },
 "nbformat": 4,
 "nbformat_minor": 2
}
